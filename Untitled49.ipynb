{
  "nbformat": 4,
  "nbformat_minor": 0,
  "metadata": {
    "colab": {
      "provenance": []
    },
    "kernelspec": {
      "name": "python3",
      "display_name": "Python 3"
    },
    "language_info": {
      "name": "python"
    }
  },
  "cells": [
    {
      "cell_type": "markdown",
      "source": [
        "**Stock market prediction and forecasting using stacked LSTM.**"
      ],
      "metadata": {
        "id": "I--B7J3h1l9v"
      }
    },
    {
      "cell_type": "markdown",
      "source": [
        "### Keras and Tensorflow > 2.0"
      ],
      "metadata": {
        "id": "UGNY83kMOEOq"
      }
    },
    {
      "cell_type": "markdown",
      "source": [
        "**Data collection**:\n",
        "The data is collected from kaggle for a time series analysis.\n"
      ],
      "metadata": {
        "id": "uO92R7X01Ksv"
      }
    },
    {
      "cell_type": "code",
      "source": [
        "###DataCollection\n",
        "import numpy as np\n",
        "import pandas as pd\n",
        "df = pd.read_csv('/content/NEPSE2810.csv')\n",
        "df"
      ],
      "metadata": {
        "colab": {
          "base_uri": "https://localhost:8080/",
          "height": 424
        },
        "id": "L-ghEM_uO3_D",
        "outputId": "aff52d49-9dc8-481d-c32a-de190ed9ec86"
      },
      "execution_count": 3,
      "outputs": [
        {
          "output_type": "execute_result",
          "data": {
            "text/plain": [
              "     1  2019040301003237  UPCL  41  14   20  119  2380.00  \\\n",
              "0    2  2019040301003076  UPCL  17  14  250  119  29750.0   \n",
              "1    3  2019040301003075  UPCL  17  34   50  119   5950.0   \n",
              "2    4  2019040301001186  UPCL  52  34   10  120   1200.0   \n",
              "3    5  2019040301000656  UPCL  52  19   10  122   1220.0   \n",
              "4    6  2019040301000655  UPCL  52  32   90  122  10980.0   \n",
              "..  ..               ...   ...  ..  ..  ...  ...      ...   \n",
              "62  64  2019032402000037  UPCL   4  40   10  289   2890.0   \n",
              "63  65  2019032402000026  UPCL  38  41   50  294  14700.0   \n",
              "64  66  2019032402000025  UPCL  38  32   50  294  14700.0   \n",
              "65  67  2019032402000022  UPCL  29  40   10  300   3000.0   \n",
              "66  68  2019032402000021  UPCL  10  40   10  300   3000.0   \n",
              "\n",
              "    2019-04-03 01:00:00.323700  \n",
              "0   2019-04-03 01:00:00.307600  \n",
              "1   2019-04-03 01:00:00.307500  \n",
              "2   2019-04-03 01:00:00.118600  \n",
              "3   2019-04-03 01:00:00.065600  \n",
              "4   2019-04-03 01:00:00.065500  \n",
              "..                         ...  \n",
              "62  2019-03-24 02:00:00.003700  \n",
              "63  2019-03-24 02:00:00.002600  \n",
              "64  2019-03-24 02:00:00.002500  \n",
              "65  2019-03-24 02:00:00.002200  \n",
              "66  2019-03-24 02:00:00.002100  \n",
              "\n",
              "[67 rows x 9 columns]"
            ],
            "text/html": [
              "\n",
              "\n",
              "  <div id=\"df-31fd55b6-ce9c-4aad-bf0f-a90cd54fdf4b\">\n",
              "    <div class=\"colab-df-container\">\n",
              "      <div>\n",
              "<style scoped>\n",
              "    .dataframe tbody tr th:only-of-type {\n",
              "        vertical-align: middle;\n",
              "    }\n",
              "\n",
              "    .dataframe tbody tr th {\n",
              "        vertical-align: top;\n",
              "    }\n",
              "\n",
              "    .dataframe thead th {\n",
              "        text-align: right;\n",
              "    }\n",
              "</style>\n",
              "<table border=\"1\" class=\"dataframe\">\n",
              "  <thead>\n",
              "    <tr style=\"text-align: right;\">\n",
              "      <th></th>\n",
              "      <th>1</th>\n",
              "      <th>2019040301003237</th>\n",
              "      <th>UPCL</th>\n",
              "      <th>41</th>\n",
              "      <th>14</th>\n",
              "      <th>20</th>\n",
              "      <th>119</th>\n",
              "      <th>2380.00</th>\n",
              "      <th>2019-04-03 01:00:00.323700</th>\n",
              "    </tr>\n",
              "  </thead>\n",
              "  <tbody>\n",
              "    <tr>\n",
              "      <th>0</th>\n",
              "      <td>2</td>\n",
              "      <td>2019040301003076</td>\n",
              "      <td>UPCL</td>\n",
              "      <td>17</td>\n",
              "      <td>14</td>\n",
              "      <td>250</td>\n",
              "      <td>119</td>\n",
              "      <td>29750.0</td>\n",
              "      <td>2019-04-03 01:00:00.307600</td>\n",
              "    </tr>\n",
              "    <tr>\n",
              "      <th>1</th>\n",
              "      <td>3</td>\n",
              "      <td>2019040301003075</td>\n",
              "      <td>UPCL</td>\n",
              "      <td>17</td>\n",
              "      <td>34</td>\n",
              "      <td>50</td>\n",
              "      <td>119</td>\n",
              "      <td>5950.0</td>\n",
              "      <td>2019-04-03 01:00:00.307500</td>\n",
              "    </tr>\n",
              "    <tr>\n",
              "      <th>2</th>\n",
              "      <td>4</td>\n",
              "      <td>2019040301001186</td>\n",
              "      <td>UPCL</td>\n",
              "      <td>52</td>\n",
              "      <td>34</td>\n",
              "      <td>10</td>\n",
              "      <td>120</td>\n",
              "      <td>1200.0</td>\n",
              "      <td>2019-04-03 01:00:00.118600</td>\n",
              "    </tr>\n",
              "    <tr>\n",
              "      <th>3</th>\n",
              "      <td>5</td>\n",
              "      <td>2019040301000656</td>\n",
              "      <td>UPCL</td>\n",
              "      <td>52</td>\n",
              "      <td>19</td>\n",
              "      <td>10</td>\n",
              "      <td>122</td>\n",
              "      <td>1220.0</td>\n",
              "      <td>2019-04-03 01:00:00.065600</td>\n",
              "    </tr>\n",
              "    <tr>\n",
              "      <th>4</th>\n",
              "      <td>6</td>\n",
              "      <td>2019040301000655</td>\n",
              "      <td>UPCL</td>\n",
              "      <td>52</td>\n",
              "      <td>32</td>\n",
              "      <td>90</td>\n",
              "      <td>122</td>\n",
              "      <td>10980.0</td>\n",
              "      <td>2019-04-03 01:00:00.065500</td>\n",
              "    </tr>\n",
              "    <tr>\n",
              "      <th>...</th>\n",
              "      <td>...</td>\n",
              "      <td>...</td>\n",
              "      <td>...</td>\n",
              "      <td>...</td>\n",
              "      <td>...</td>\n",
              "      <td>...</td>\n",
              "      <td>...</td>\n",
              "      <td>...</td>\n",
              "      <td>...</td>\n",
              "    </tr>\n",
              "    <tr>\n",
              "      <th>62</th>\n",
              "      <td>64</td>\n",
              "      <td>2019032402000037</td>\n",
              "      <td>UPCL</td>\n",
              "      <td>4</td>\n",
              "      <td>40</td>\n",
              "      <td>10</td>\n",
              "      <td>289</td>\n",
              "      <td>2890.0</td>\n",
              "      <td>2019-03-24 02:00:00.003700</td>\n",
              "    </tr>\n",
              "    <tr>\n",
              "      <th>63</th>\n",
              "      <td>65</td>\n",
              "      <td>2019032402000026</td>\n",
              "      <td>UPCL</td>\n",
              "      <td>38</td>\n",
              "      <td>41</td>\n",
              "      <td>50</td>\n",
              "      <td>294</td>\n",
              "      <td>14700.0</td>\n",
              "      <td>2019-03-24 02:00:00.002600</td>\n",
              "    </tr>\n",
              "    <tr>\n",
              "      <th>64</th>\n",
              "      <td>66</td>\n",
              "      <td>2019032402000025</td>\n",
              "      <td>UPCL</td>\n",
              "      <td>38</td>\n",
              "      <td>32</td>\n",
              "      <td>50</td>\n",
              "      <td>294</td>\n",
              "      <td>14700.0</td>\n",
              "      <td>2019-03-24 02:00:00.002500</td>\n",
              "    </tr>\n",
              "    <tr>\n",
              "      <th>65</th>\n",
              "      <td>67</td>\n",
              "      <td>2019032402000022</td>\n",
              "      <td>UPCL</td>\n",
              "      <td>29</td>\n",
              "      <td>40</td>\n",
              "      <td>10</td>\n",
              "      <td>300</td>\n",
              "      <td>3000.0</td>\n",
              "      <td>2019-03-24 02:00:00.002200</td>\n",
              "    </tr>\n",
              "    <tr>\n",
              "      <th>66</th>\n",
              "      <td>68</td>\n",
              "      <td>2019032402000021</td>\n",
              "      <td>UPCL</td>\n",
              "      <td>10</td>\n",
              "      <td>40</td>\n",
              "      <td>10</td>\n",
              "      <td>300</td>\n",
              "      <td>3000.0</td>\n",
              "      <td>2019-03-24 02:00:00.002100</td>\n",
              "    </tr>\n",
              "  </tbody>\n",
              "</table>\n",
              "<p>67 rows × 9 columns</p>\n",
              "</div>\n",
              "      <button class=\"colab-df-convert\" onclick=\"convertToInteractive('df-31fd55b6-ce9c-4aad-bf0f-a90cd54fdf4b')\"\n",
              "              title=\"Convert this dataframe to an interactive table.\"\n",
              "              style=\"display:none;\">\n",
              "\n",
              "  <svg xmlns=\"http://www.w3.org/2000/svg\" height=\"24px\"viewBox=\"0 0 24 24\"\n",
              "       width=\"24px\">\n",
              "    <path d=\"M0 0h24v24H0V0z\" fill=\"none\"/>\n",
              "    <path d=\"M18.56 5.44l.94 2.06.94-2.06 2.06-.94-2.06-.94-.94-2.06-.94 2.06-2.06.94zm-11 1L8.5 8.5l.94-2.06 2.06-.94-2.06-.94L8.5 2.5l-.94 2.06-2.06.94zm10 10l.94 2.06.94-2.06 2.06-.94-2.06-.94-.94-2.06-.94 2.06-2.06.94z\"/><path d=\"M17.41 7.96l-1.37-1.37c-.4-.4-.92-.59-1.43-.59-.52 0-1.04.2-1.43.59L10.3 9.45l-7.72 7.72c-.78.78-.78 2.05 0 2.83L4 21.41c.39.39.9.59 1.41.59.51 0 1.02-.2 1.41-.59l7.78-7.78 2.81-2.81c.8-.78.8-2.07 0-2.86zM5.41 20L4 18.59l7.72-7.72 1.47 1.35L5.41 20z\"/>\n",
              "  </svg>\n",
              "      </button>\n",
              "\n",
              "\n",
              "\n",
              "    <div id=\"df-8f102a9e-e69c-447d-a1d6-43502c8394e8\">\n",
              "      <button class=\"colab-df-quickchart\" onclick=\"quickchart('df-8f102a9e-e69c-447d-a1d6-43502c8394e8')\"\n",
              "              title=\"Suggest charts.\"\n",
              "              style=\"display:none;\">\n",
              "\n",
              "<svg xmlns=\"http://www.w3.org/2000/svg\" height=\"24px\"viewBox=\"0 0 24 24\"\n",
              "     width=\"24px\">\n",
              "    <g>\n",
              "        <path d=\"M19 3H5c-1.1 0-2 .9-2 2v14c0 1.1.9 2 2 2h14c1.1 0 2-.9 2-2V5c0-1.1-.9-2-2-2zM9 17H7v-7h2v7zm4 0h-2V7h2v10zm4 0h-2v-4h2v4z\"/>\n",
              "    </g>\n",
              "</svg>\n",
              "      </button>\n",
              "    </div>\n",
              "\n",
              "<style>\n",
              "  .colab-df-quickchart {\n",
              "    background-color: #E8F0FE;\n",
              "    border: none;\n",
              "    border-radius: 50%;\n",
              "    cursor: pointer;\n",
              "    display: none;\n",
              "    fill: #1967D2;\n",
              "    height: 32px;\n",
              "    padding: 0 0 0 0;\n",
              "    width: 32px;\n",
              "  }\n",
              "\n",
              "  .colab-df-quickchart:hover {\n",
              "    background-color: #E2EBFA;\n",
              "    box-shadow: 0px 1px 2px rgba(60, 64, 67, 0.3), 0px 1px 3px 1px rgba(60, 64, 67, 0.15);\n",
              "    fill: #174EA6;\n",
              "  }\n",
              "\n",
              "  [theme=dark] .colab-df-quickchart {\n",
              "    background-color: #3B4455;\n",
              "    fill: #D2E3FC;\n",
              "  }\n",
              "\n",
              "  [theme=dark] .colab-df-quickchart:hover {\n",
              "    background-color: #434B5C;\n",
              "    box-shadow: 0px 1px 3px 1px rgba(0, 0, 0, 0.15);\n",
              "    filter: drop-shadow(0px 1px 2px rgba(0, 0, 0, 0.3));\n",
              "    fill: #FFFFFF;\n",
              "  }\n",
              "</style>\n",
              "\n",
              "    <script>\n",
              "      async function quickchart(key) {\n",
              "        const containerElement = document.querySelector('#' + key);\n",
              "        const charts = await google.colab.kernel.invokeFunction(\n",
              "            'suggestCharts', [key], {});\n",
              "      }\n",
              "    </script>\n",
              "\n",
              "      <script>\n",
              "\n",
              "function displayQuickchartButton(domScope) {\n",
              "  let quickchartButtonEl =\n",
              "    domScope.querySelector('#df-8f102a9e-e69c-447d-a1d6-43502c8394e8 button.colab-df-quickchart');\n",
              "  quickchartButtonEl.style.display =\n",
              "    google.colab.kernel.accessAllowed ? 'block' : 'none';\n",
              "}\n",
              "\n",
              "        displayQuickchartButton(document);\n",
              "      </script>\n",
              "      <style>\n",
              "    .colab-df-container {\n",
              "      display:flex;\n",
              "      flex-wrap:wrap;\n",
              "      gap: 12px;\n",
              "    }\n",
              "\n",
              "    .colab-df-convert {\n",
              "      background-color: #E8F0FE;\n",
              "      border: none;\n",
              "      border-radius: 50%;\n",
              "      cursor: pointer;\n",
              "      display: none;\n",
              "      fill: #1967D2;\n",
              "      height: 32px;\n",
              "      padding: 0 0 0 0;\n",
              "      width: 32px;\n",
              "    }\n",
              "\n",
              "    .colab-df-convert:hover {\n",
              "      background-color: #E2EBFA;\n",
              "      box-shadow: 0px 1px 2px rgba(60, 64, 67, 0.3), 0px 1px 3px 1px rgba(60, 64, 67, 0.15);\n",
              "      fill: #174EA6;\n",
              "    }\n",
              "\n",
              "    [theme=dark] .colab-df-convert {\n",
              "      background-color: #3B4455;\n",
              "      fill: #D2E3FC;\n",
              "    }\n",
              "\n",
              "    [theme=dark] .colab-df-convert:hover {\n",
              "      background-color: #434B5C;\n",
              "      box-shadow: 0px 1px 3px 1px rgba(0, 0, 0, 0.15);\n",
              "      filter: drop-shadow(0px 1px 2px rgba(0, 0, 0, 0.3));\n",
              "      fill: #FFFFFF;\n",
              "    }\n",
              "  </style>\n",
              "\n",
              "      <script>\n",
              "        const buttonEl =\n",
              "          document.querySelector('#df-31fd55b6-ce9c-4aad-bf0f-a90cd54fdf4b button.colab-df-convert');\n",
              "        buttonEl.style.display =\n",
              "          google.colab.kernel.accessAllowed ? 'block' : 'none';\n",
              "\n",
              "        async function convertToInteractive(key) {\n",
              "          const element = document.querySelector('#df-31fd55b6-ce9c-4aad-bf0f-a90cd54fdf4b');\n",
              "          const dataTable =\n",
              "            await google.colab.kernel.invokeFunction('convertToInteractive',\n",
              "                                                     [key], {});\n",
              "          if (!dataTable) return;\n",
              "\n",
              "          const docLinkHtml = 'Like what you see? Visit the ' +\n",
              "            '<a target=\"_blank\" href=https://colab.research.google.com/notebooks/data_table.ipynb>data table notebook</a>'\n",
              "            + ' to learn more about interactive tables.';\n",
              "          element.innerHTML = '';\n",
              "          dataTable['output_type'] = 'display_data';\n",
              "          await google.colab.output.renderOutput(dataTable, element);\n",
              "          const docLink = document.createElement('div');\n",
              "          docLink.innerHTML = docLinkHtml;\n",
              "          element.appendChild(docLink);\n",
              "        }\n",
              "      </script>\n",
              "    </div>\n",
              "  </div>\n"
            ]
          },
          "metadata": {},
          "execution_count": 3
        }
      ]
    },
    {
      "cell_type": "markdown",
      "source": [
        "Data Inspection"
      ],
      "metadata": {
        "id": "IeXKl92Kor7n"
      }
    },
    {
      "cell_type": "code",
      "source": [
        "df.shape"
      ],
      "metadata": {
        "colab": {
          "base_uri": "https://localhost:8080/"
        },
        "id": "IRrOiTzGoyc8",
        "outputId": "96c57898-579e-4276-8bb1-b490abf55dd6"
      },
      "execution_count": 4,
      "outputs": [
        {
          "output_type": "execute_result",
          "data": {
            "text/plain": [
              "(67, 9)"
            ]
          },
          "metadata": {},
          "execution_count": 4
        }
      ]
    },
    {
      "cell_type": "code",
      "source": [
        "df.tail"
      ],
      "metadata": {
        "colab": {
          "base_uri": "https://localhost:8080/"
        },
        "id": "FsmFy76Co499",
        "outputId": "bd1e450a-3d8f-48c7-8524-ddc7ca33c228"
      },
      "execution_count": 5,
      "outputs": [
        {
          "output_type": "execute_result",
          "data": {
            "text/plain": [
              "<bound method NDFrame.tail of      1  2019040301003237  UPCL  41  14   20  119  2380.00  \\\n",
              "0    2  2019040301003076  UPCL  17  14  250  119  29750.0   \n",
              "1    3  2019040301003075  UPCL  17  34   50  119   5950.0   \n",
              "2    4  2019040301001186  UPCL  52  34   10  120   1200.0   \n",
              "3    5  2019040301000656  UPCL  52  19   10  122   1220.0   \n",
              "4    6  2019040301000655  UPCL  52  32   90  122  10980.0   \n",
              "..  ..               ...   ...  ..  ..  ...  ...      ...   \n",
              "62  64  2019032402000037  UPCL   4  40   10  289   2890.0   \n",
              "63  65  2019032402000026  UPCL  38  41   50  294  14700.0   \n",
              "64  66  2019032402000025  UPCL  38  32   50  294  14700.0   \n",
              "65  67  2019032402000022  UPCL  29  40   10  300   3000.0   \n",
              "66  68  2019032402000021  UPCL  10  40   10  300   3000.0   \n",
              "\n",
              "    2019-04-03 01:00:00.323700  \n",
              "0   2019-04-03 01:00:00.307600  \n",
              "1   2019-04-03 01:00:00.307500  \n",
              "2   2019-04-03 01:00:00.118600  \n",
              "3   2019-04-03 01:00:00.065600  \n",
              "4   2019-04-03 01:00:00.065500  \n",
              "..                         ...  \n",
              "62  2019-03-24 02:00:00.003700  \n",
              "63  2019-03-24 02:00:00.002600  \n",
              "64  2019-03-24 02:00:00.002500  \n",
              "65  2019-03-24 02:00:00.002200  \n",
              "66  2019-03-24 02:00:00.002100  \n",
              "\n",
              "[67 rows x 9 columns]>"
            ]
          },
          "metadata": {},
          "execution_count": 5
        }
      ]
    },
    {
      "cell_type": "code",
      "source": [
        "col = df['119']\n",
        "col"
      ],
      "metadata": {
        "colab": {
          "base_uri": "https://localhost:8080/"
        },
        "id": "-iJoBQ9JwwBp",
        "outputId": "fc96bdb6-74b7-488a-889b-dfd4a292be2e"
      },
      "execution_count": 9,
      "outputs": [
        {
          "output_type": "execute_result",
          "data": {
            "text/plain": [
              "0     119\n",
              "1     119\n",
              "2     120\n",
              "3     122\n",
              "4     122\n",
              "     ... \n",
              "62    289\n",
              "63    294\n",
              "64    294\n",
              "65    300\n",
              "66    300\n",
              "Name: 119, Length: 67, dtype: int64"
            ]
          },
          "metadata": {},
          "execution_count": 9
        }
      ]
    },
    {
      "cell_type": "markdown",
      "source": [
        "Data Summary"
      ],
      "metadata": {
        "id": "cg8H_JE-pDGr"
      }
    },
    {
      "cell_type": "code",
      "source": [
        "df.describe()"
      ],
      "metadata": {
        "colab": {
          "base_uri": "https://localhost:8080/",
          "height": 300
        },
        "id": "bER76lNZyNre",
        "outputId": "3275bcc0-c415-47ae-e34e-0852358d74ec"
      },
      "execution_count": 10,
      "outputs": [
        {
          "output_type": "execute_result",
          "data": {
            "text/plain": [
              "               1  2019040301003237         41         14          20  \\\n",
              "count  67.000000      6.700000e+01  67.000000  67.000000   67.000000   \n",
              "mean   35.000000      2.019035e+15  44.955224  33.238806   28.805970   \n",
              "std    19.485037      3.483386e+09  11.755634  15.628344   34.751167   \n",
              "min     2.000000      2.019032e+15   4.000000   4.000000   10.000000   \n",
              "25%    18.500000      2.019033e+15  42.000000  19.000000   10.000000   \n",
              "50%    35.000000      2.019033e+15  49.000000  34.000000   10.000000   \n",
              "75%    51.500000      2.019040e+15  52.000000  42.000000   50.000000   \n",
              "max    68.000000      2.019040e+15  58.000000  58.000000  250.000000   \n",
              "\n",
              "              119       2380.00  \n",
              "count   67.000000     67.000000  \n",
              "mean   196.701493   5437.761194  \n",
              "std     54.616297   5317.077353  \n",
              "min    119.000000   1200.000000  \n",
              "25%    147.000000   1795.000000  \n",
              "50%    186.000000   2780.000000  \n",
              "75%    237.000000   8550.000000  \n",
              "max    300.000000  29750.000000  "
            ],
            "text/html": [
              "\n",
              "\n",
              "  <div id=\"df-c8b3f29f-c6c7-4820-966e-251c9147fede\">\n",
              "    <div class=\"colab-df-container\">\n",
              "      <div>\n",
              "<style scoped>\n",
              "    .dataframe tbody tr th:only-of-type {\n",
              "        vertical-align: middle;\n",
              "    }\n",
              "\n",
              "    .dataframe tbody tr th {\n",
              "        vertical-align: top;\n",
              "    }\n",
              "\n",
              "    .dataframe thead th {\n",
              "        text-align: right;\n",
              "    }\n",
              "</style>\n",
              "<table border=\"1\" class=\"dataframe\">\n",
              "  <thead>\n",
              "    <tr style=\"text-align: right;\">\n",
              "      <th></th>\n",
              "      <th>1</th>\n",
              "      <th>2019040301003237</th>\n",
              "      <th>41</th>\n",
              "      <th>14</th>\n",
              "      <th>20</th>\n",
              "      <th>119</th>\n",
              "      <th>2380.00</th>\n",
              "    </tr>\n",
              "  </thead>\n",
              "  <tbody>\n",
              "    <tr>\n",
              "      <th>count</th>\n",
              "      <td>67.000000</td>\n",
              "      <td>6.700000e+01</td>\n",
              "      <td>67.000000</td>\n",
              "      <td>67.000000</td>\n",
              "      <td>67.000000</td>\n",
              "      <td>67.000000</td>\n",
              "      <td>67.000000</td>\n",
              "    </tr>\n",
              "    <tr>\n",
              "      <th>mean</th>\n",
              "      <td>35.000000</td>\n",
              "      <td>2.019035e+15</td>\n",
              "      <td>44.955224</td>\n",
              "      <td>33.238806</td>\n",
              "      <td>28.805970</td>\n",
              "      <td>196.701493</td>\n",
              "      <td>5437.761194</td>\n",
              "    </tr>\n",
              "    <tr>\n",
              "      <th>std</th>\n",
              "      <td>19.485037</td>\n",
              "      <td>3.483386e+09</td>\n",
              "      <td>11.755634</td>\n",
              "      <td>15.628344</td>\n",
              "      <td>34.751167</td>\n",
              "      <td>54.616297</td>\n",
              "      <td>5317.077353</td>\n",
              "    </tr>\n",
              "    <tr>\n",
              "      <th>min</th>\n",
              "      <td>2.000000</td>\n",
              "      <td>2.019032e+15</td>\n",
              "      <td>4.000000</td>\n",
              "      <td>4.000000</td>\n",
              "      <td>10.000000</td>\n",
              "      <td>119.000000</td>\n",
              "      <td>1200.000000</td>\n",
              "    </tr>\n",
              "    <tr>\n",
              "      <th>25%</th>\n",
              "      <td>18.500000</td>\n",
              "      <td>2.019033e+15</td>\n",
              "      <td>42.000000</td>\n",
              "      <td>19.000000</td>\n",
              "      <td>10.000000</td>\n",
              "      <td>147.000000</td>\n",
              "      <td>1795.000000</td>\n",
              "    </tr>\n",
              "    <tr>\n",
              "      <th>50%</th>\n",
              "      <td>35.000000</td>\n",
              "      <td>2.019033e+15</td>\n",
              "      <td>49.000000</td>\n",
              "      <td>34.000000</td>\n",
              "      <td>10.000000</td>\n",
              "      <td>186.000000</td>\n",
              "      <td>2780.000000</td>\n",
              "    </tr>\n",
              "    <tr>\n",
              "      <th>75%</th>\n",
              "      <td>51.500000</td>\n",
              "      <td>2.019040e+15</td>\n",
              "      <td>52.000000</td>\n",
              "      <td>42.000000</td>\n",
              "      <td>50.000000</td>\n",
              "      <td>237.000000</td>\n",
              "      <td>8550.000000</td>\n",
              "    </tr>\n",
              "    <tr>\n",
              "      <th>max</th>\n",
              "      <td>68.000000</td>\n",
              "      <td>2.019040e+15</td>\n",
              "      <td>58.000000</td>\n",
              "      <td>58.000000</td>\n",
              "      <td>250.000000</td>\n",
              "      <td>300.000000</td>\n",
              "      <td>29750.000000</td>\n",
              "    </tr>\n",
              "  </tbody>\n",
              "</table>\n",
              "</div>\n",
              "      <button class=\"colab-df-convert\" onclick=\"convertToInteractive('df-c8b3f29f-c6c7-4820-966e-251c9147fede')\"\n",
              "              title=\"Convert this dataframe to an interactive table.\"\n",
              "              style=\"display:none;\">\n",
              "\n",
              "  <svg xmlns=\"http://www.w3.org/2000/svg\" height=\"24px\"viewBox=\"0 0 24 24\"\n",
              "       width=\"24px\">\n",
              "    <path d=\"M0 0h24v24H0V0z\" fill=\"none\"/>\n",
              "    <path d=\"M18.56 5.44l.94 2.06.94-2.06 2.06-.94-2.06-.94-.94-2.06-.94 2.06-2.06.94zm-11 1L8.5 8.5l.94-2.06 2.06-.94-2.06-.94L8.5 2.5l-.94 2.06-2.06.94zm10 10l.94 2.06.94-2.06 2.06-.94-2.06-.94-.94-2.06-.94 2.06-2.06.94z\"/><path d=\"M17.41 7.96l-1.37-1.37c-.4-.4-.92-.59-1.43-.59-.52 0-1.04.2-1.43.59L10.3 9.45l-7.72 7.72c-.78.78-.78 2.05 0 2.83L4 21.41c.39.39.9.59 1.41.59.51 0 1.02-.2 1.41-.59l7.78-7.78 2.81-2.81c.8-.78.8-2.07 0-2.86zM5.41 20L4 18.59l7.72-7.72 1.47 1.35L5.41 20z\"/>\n",
              "  </svg>\n",
              "      </button>\n",
              "\n",
              "\n",
              "\n",
              "    <div id=\"df-941e000f-b915-4ead-aa81-47a13805a1ca\">\n",
              "      <button class=\"colab-df-quickchart\" onclick=\"quickchart('df-941e000f-b915-4ead-aa81-47a13805a1ca')\"\n",
              "              title=\"Suggest charts.\"\n",
              "              style=\"display:none;\">\n",
              "\n",
              "<svg xmlns=\"http://www.w3.org/2000/svg\" height=\"24px\"viewBox=\"0 0 24 24\"\n",
              "     width=\"24px\">\n",
              "    <g>\n",
              "        <path d=\"M19 3H5c-1.1 0-2 .9-2 2v14c0 1.1.9 2 2 2h14c1.1 0 2-.9 2-2V5c0-1.1-.9-2-2-2zM9 17H7v-7h2v7zm4 0h-2V7h2v10zm4 0h-2v-4h2v4z\"/>\n",
              "    </g>\n",
              "</svg>\n",
              "      </button>\n",
              "    </div>\n",
              "\n",
              "<style>\n",
              "  .colab-df-quickchart {\n",
              "    background-color: #E8F0FE;\n",
              "    border: none;\n",
              "    border-radius: 50%;\n",
              "    cursor: pointer;\n",
              "    display: none;\n",
              "    fill: #1967D2;\n",
              "    height: 32px;\n",
              "    padding: 0 0 0 0;\n",
              "    width: 32px;\n",
              "  }\n",
              "\n",
              "  .colab-df-quickchart:hover {\n",
              "    background-color: #E2EBFA;\n",
              "    box-shadow: 0px 1px 2px rgba(60, 64, 67, 0.3), 0px 1px 3px 1px rgba(60, 64, 67, 0.15);\n",
              "    fill: #174EA6;\n",
              "  }\n",
              "\n",
              "  [theme=dark] .colab-df-quickchart {\n",
              "    background-color: #3B4455;\n",
              "    fill: #D2E3FC;\n",
              "  }\n",
              "\n",
              "  [theme=dark] .colab-df-quickchart:hover {\n",
              "    background-color: #434B5C;\n",
              "    box-shadow: 0px 1px 3px 1px rgba(0, 0, 0, 0.15);\n",
              "    filter: drop-shadow(0px 1px 2px rgba(0, 0, 0, 0.3));\n",
              "    fill: #FFFFFF;\n",
              "  }\n",
              "</style>\n",
              "\n",
              "    <script>\n",
              "      async function quickchart(key) {\n",
              "        const containerElement = document.querySelector('#' + key);\n",
              "        const charts = await google.colab.kernel.invokeFunction(\n",
              "            'suggestCharts', [key], {});\n",
              "      }\n",
              "    </script>\n",
              "\n",
              "      <script>\n",
              "\n",
              "function displayQuickchartButton(domScope) {\n",
              "  let quickchartButtonEl =\n",
              "    domScope.querySelector('#df-941e000f-b915-4ead-aa81-47a13805a1ca button.colab-df-quickchart');\n",
              "  quickchartButtonEl.style.display =\n",
              "    google.colab.kernel.accessAllowed ? 'block' : 'none';\n",
              "}\n",
              "\n",
              "        displayQuickchartButton(document);\n",
              "      </script>\n",
              "      <style>\n",
              "    .colab-df-container {\n",
              "      display:flex;\n",
              "      flex-wrap:wrap;\n",
              "      gap: 12px;\n",
              "    }\n",
              "\n",
              "    .colab-df-convert {\n",
              "      background-color: #E8F0FE;\n",
              "      border: none;\n",
              "      border-radius: 50%;\n",
              "      cursor: pointer;\n",
              "      display: none;\n",
              "      fill: #1967D2;\n",
              "      height: 32px;\n",
              "      padding: 0 0 0 0;\n",
              "      width: 32px;\n",
              "    }\n",
              "\n",
              "    .colab-df-convert:hover {\n",
              "      background-color: #E2EBFA;\n",
              "      box-shadow: 0px 1px 2px rgba(60, 64, 67, 0.3), 0px 1px 3px 1px rgba(60, 64, 67, 0.15);\n",
              "      fill: #174EA6;\n",
              "    }\n",
              "\n",
              "    [theme=dark] .colab-df-convert {\n",
              "      background-color: #3B4455;\n",
              "      fill: #D2E3FC;\n",
              "    }\n",
              "\n",
              "    [theme=dark] .colab-df-convert:hover {\n",
              "      background-color: #434B5C;\n",
              "      box-shadow: 0px 1px 3px 1px rgba(0, 0, 0, 0.15);\n",
              "      filter: drop-shadow(0px 1px 2px rgba(0, 0, 0, 0.3));\n",
              "      fill: #FFFFFF;\n",
              "    }\n",
              "  </style>\n",
              "\n",
              "      <script>\n",
              "        const buttonEl =\n",
              "          document.querySelector('#df-c8b3f29f-c6c7-4820-966e-251c9147fede button.colab-df-convert');\n",
              "        buttonEl.style.display =\n",
              "          google.colab.kernel.accessAllowed ? 'block' : 'none';\n",
              "\n",
              "        async function convertToInteractive(key) {\n",
              "          const element = document.querySelector('#df-c8b3f29f-c6c7-4820-966e-251c9147fede');\n",
              "          const dataTable =\n",
              "            await google.colab.kernel.invokeFunction('convertToInteractive',\n",
              "                                                     [key], {});\n",
              "          if (!dataTable) return;\n",
              "\n",
              "          const docLinkHtml = 'Like what you see? Visit the ' +\n",
              "            '<a target=\"_blank\" href=https://colab.research.google.com/notebooks/data_table.ipynb>data table notebook</a>'\n",
              "            + ' to learn more about interactive tables.';\n",
              "          element.innerHTML = '';\n",
              "          dataTable['output_type'] = 'display_data';\n",
              "          await google.colab.output.renderOutput(dataTable, element);\n",
              "          const docLink = document.createElement('div');\n",
              "          docLink.innerHTML = docLinkHtml;\n",
              "          element.appendChild(docLink);\n",
              "        }\n",
              "      </script>\n",
              "    </div>\n",
              "  </div>\n"
            ]
          },
          "metadata": {},
          "execution_count": 10
        }
      ]
    },
    {
      "cell_type": "markdown",
      "source": [
        "Data visualization"
      ],
      "metadata": {
        "id": "yqJWKgtbpJYR"
      }
    },
    {
      "cell_type": "code",
      "source": [
        "df1=df.reset_index()['2380.00']"
      ],
      "metadata": {
        "id": "2p1gkrRYpJoM"
      },
      "execution_count": 12,
      "outputs": []
    },
    {
      "cell_type": "code",
      "source": [
        "df1.shape"
      ],
      "metadata": {
        "colab": {
          "base_uri": "https://localhost:8080/"
        },
        "id": "5OmF-3s33buk",
        "outputId": "9e7fc2d5-b15a-41a2-9267-4a2c6e62a3dd"
      },
      "execution_count": 13,
      "outputs": [
        {
          "output_type": "execute_result",
          "data": {
            "text/plain": [
              "(67,)"
            ]
          },
          "metadata": {},
          "execution_count": 13
        }
      ]
    },
    {
      "cell_type": "code",
      "source": [
        "import matplotlib.pyplot as plt\n",
        "plt.plot(df1)"
      ],
      "metadata": {
        "colab": {
          "base_uri": "https://localhost:8080/",
          "height": 447
        },
        "id": "3UrlXSke3mg5",
        "outputId": "0a7d6d7d-168b-4567-af0d-1fd8309e9db8"
      },
      "execution_count": 14,
      "outputs": [
        {
          "output_type": "execute_result",
          "data": {
            "text/plain": [
              "[<matplotlib.lines.Line2D at 0x7a3ccd4051b0>]"
            ]
          },
          "metadata": {},
          "execution_count": 14
        },
        {
          "output_type": "display_data",
          "data": {
            "text/plain": [
              "<Figure size 640x480 with 1 Axes>"
            ],
            "image/png": "[encoded data removed]"
          },
          "metadata": {}
        }
      ]
    },
    {
      "cell_type": "markdown",
      "source": [
        "Since LSTM is sensitive to the scale of data. We use MinMax Scaler\n"
      ],
      "metadata": {
        "id": "OWa_jBJc4Ug-"
      }
    },
    {
      "cell_type": "code",
      "source": [
        "import numpy as np\n"
      ],
      "metadata": {
        "id": "KOVEdi6X5IQM"
      },
      "execution_count": null,
      "outputs": []
    },
    {
      "cell_type": "code",
      "source": [
        "df1"
      ],
      "metadata": {
        "colab": {
          "base_uri": "https://localhost:8080/"
        },
        "id": "RacpeazOA4cm",
        "outputId": "cafcb5b2-0185-42a1-f01d-e0384812ac91"
      },
      "execution_count": 20,
      "outputs": [
        {
          "output_type": "execute_result",
          "data": {
            "text/plain": [
              "0     29750.0\n",
              "1      5950.0\n",
              "2      1200.0\n",
              "3      1220.0\n",
              "4     10980.0\n",
              "       ...   \n",
              "62     2890.0\n",
              "63    14700.0\n",
              "64    14700.0\n",
              "65     3000.0\n",
              "66     3000.0\n",
              "Name: 2380.00, Length: 67, dtype: float64"
            ]
          },
          "metadata": {},
          "execution_count": 20
        }
      ]
    },
    {
      "cell_type": "code",
      "source": [
        "from sklearn.preprocessing import MinMaxScaler\n",
        "scaler=MinMaxScaler(feature_range=(0,1))\n",
        "df1=scaler.fit_transform(np.array(df1).reshape(-1,1))"
      ],
      "metadata": {
        "id": "uz24bfxy5OTE"
      },
      "execution_count": 22,
      "outputs": []
    },
    {
      "cell_type": "code",
      "source": [
        "df1.shape"
      ],
      "metadata": {
        "colab": {
          "base_uri": "https://localhost:8080/"
        },
        "id": "8KtrPc6bA1hy",
        "outputId": "21d31379-7f3d-4918-9b63-486a8c6d9657"
      },
      "execution_count": 19,
      "outputs": [
        {
          "output_type": "execute_result",
          "data": {
            "text/plain": [
              "(67,)"
            ]
          },
          "metadata": {},
          "execution_count": 19
        }
      ]
    },
    {
      "cell_type": "code",
      "source": [
        "print(df1)"
      ],
      "metadata": {
        "colab": {
          "base_uri": "https://localhost:8080/"
        },
        "id": "KdGbMgVQBjGz",
        "outputId": "8f191f69-f1cb-4763-f034-55a5d1c13f03"
      },
      "execution_count": 24,
      "outputs": [
        {
          "output_type": "stream",
          "name": "stdout",
          "text": [
            "[[1.00000000e+00]\n",
            " [1.66374781e-01]\n",
            " [0.00000000e+00]\n",
            " [7.00525394e-04]\n",
            " [3.42556918e-01]\n",
            " [1.40105079e-03]\n",
            " [2.10157618e-03]\n",
            " [4.20315236e-03]\n",
            " [4.20315236e-03]\n",
            " [3.74080560e-01]\n",
            " [4.55341506e-03]\n",
            " [5.25394046e-03]\n",
            " [5.95446585e-03]\n",
            " [5.53415061e-02]\n",
            " [9.10683012e-03]\n",
            " [1.62521891e-01]\n",
            " [9.10683012e-03]\n",
            " [9.80735552e-03]\n",
            " [1.08581436e-02]\n",
            " [1.19089317e-02]\n",
            " [1.47110333e-02]\n",
            " [2.46935201e-01]\n",
            " [1.68126095e-02]\n",
            " [7.77583187e-02]\n",
            " [1.37653240e-01]\n",
            " [2.57443082e-01]\n",
            " [2.57443082e-01]\n",
            " [2.06654991e-02]\n",
            " [2.71453590e-01]\n",
            " [2.10157618e-02]\n",
            " [2.20665499e-02]\n",
            " [2.31173380e-02]\n",
            " [2.18563923e-01]\n",
            " [2.83712785e-01]\n",
            " [2.41681261e-02]\n",
            " [2.73204904e-02]\n",
            " [2.35376532e-01]\n",
            " [2.73204904e-02]\n",
            " [2.83712785e-02]\n",
            " [2.97723292e-02]\n",
            " [3.11733800e-02]\n",
            " [3.46760070e-02]\n",
            " [2.64798599e-01]\n",
            " [3.46760070e-02]\n",
            " [3.60770578e-02]\n",
            " [3.55516637e-01]\n",
            " [1.19789842e-01]\n",
            " [3.62521891e-01]\n",
            " [3.62521891e-01]\n",
            " [6.05253940e-01]\n",
            " [2.13309982e-01]\n",
            " [1.28196147e-01]\n",
            " [3.83537653e-01]\n",
            " [4.44833625e-02]\n",
            " [3.99299475e-01]\n",
            " [4.08056042e-01]\n",
            " [5.25394046e-02]\n",
            " [3.36252189e-01]\n",
            " [5.25394046e-02]\n",
            " [5.39404553e-02]\n",
            " [5.56917688e-02]\n",
            " [5.74430823e-02]\n",
            " [5.91943958e-02]\n",
            " [4.72854641e-01]\n",
            " [4.72854641e-01]\n",
            " [6.30472855e-02]\n",
            " [6.30472855e-02]]\n"
          ]
        }
      ]
    },
    {
      "cell_type": "markdown",
      "source": [
        "Split data to train and test"
      ],
      "metadata": {
        "id": "PGtWYMuWC0t_"
      }
    },
    {
      "cell_type": "code",
      "source": [
        "training_size = int(len(df1)*0.50)\n",
        "test_size=len(df1)-training_size\n",
        "train_data,test_data=df1[0:training_size,:],df1[training_size:len(df1),:1]"
      ],
      "metadata": {
        "id": "zKFLlbbSDBkx"
      },
      "execution_count": 25,
      "outputs": []
    },
    {
      "cell_type": "code",
      "source": [
        "training_size,test_size"
      ],
      "metadata": {
        "colab": {
          "base_uri": "https://localhost:8080/"
        },
        "id": "IRzbwvKXD5t0",
        "outputId": "c5360de9-8535-4582-fbff-18cecfa70fda"
      },
      "execution_count": 26,
      "outputs": [
        {
          "output_type": "execute_result",
          "data": {
            "text/plain": [
              "(33, 34)"
            ]
          },
          "metadata": {},
          "execution_count": 26
        }
      ]
    },
    {
      "cell_type": "code",
      "source": [
        "train_data"
      ],
      "metadata": {
        "colab": {
          "base_uri": "https://localhost:8080/"
        },
        "id": "mv6nLMUwESNa",
        "outputId": "3177a56f-d6e5-4200-9f0f-be90c1e301c8"
      },
      "execution_count": 29,
      "outputs": [
        {
          "output_type": "execute_result",
          "data": {
            "text/plain": [
              "array([[1.00000000e+00],\n",
              "       [1.66374781e-01],\n",
              "       [0.00000000e+00],\n",
              "       [7.00525394e-04],\n",
              "       [3.42556918e-01],\n",
              "       [1.40105079e-03],\n",
              "       [2.10157618e-03],\n",
              "       [4.20315236e-03],\n",
              "       [4.20315236e-03],\n",
              "       [3.74080560e-01],\n",
              "       [4.55341506e-03],\n",
              "       [5.25394046e-03],\n",
              "       [5.95446585e-03],\n",
              "       [5.53415061e-02],\n",
              "       [9.10683012e-03],\n",
              "       [1.62521891e-01],\n",
              "       [9.10683012e-03],\n",
              "       [9.80735552e-03],\n",
              "       [1.08581436e-02],\n",
              "       [1.19089317e-02],\n",
              "       [1.47110333e-02],\n",
              "       [2.46935201e-01],\n",
              "       [1.68126095e-02],\n",
              "       [7.77583187e-02],\n",
              "       [1.37653240e-01],\n",
              "       [2.57443082e-01],\n",
              "       [2.57443082e-01],\n",
              "       [2.06654991e-02],\n",
              "       [2.71453590e-01],\n",
              "       [2.10157618e-02],\n",
              "       [2.20665499e-02],\n",
              "       [2.31173380e-02],\n",
              "       [2.18563923e-01]])"
            ]
          },
          "metadata": {},
          "execution_count": 29
        }
      ]
    },
    {
      "cell_type": "code",
      "source": [
        "import numpy\n",
        "# convert an array of values into a dataset matrix\n",
        "def create_dataset(dataset,time_step = 1):\n",
        "  dataX ,dataY = [],[]\n",
        "  for i in range(len(dataset)-time_step-1):\n",
        "    a = dataset[i:(i+time_step),0]   ###i = 0   0.1.2,3\n",
        "    dataX.append(a)\n",
        "    dataY.append(dataset[i + time_step,0])\n",
        "  return numpy.array(dataX),numpy.array(dataY)"
      ],
      "metadata": {
        "id": "jjRHVfWpFvZB"
      },
      "execution_count": 32,
      "outputs": []
    },
    {
      "cell_type": "code",
      "source": [
        "# reshape into X=t,t+1,t+2,t+3 and Y=t+4\n",
        "time_step = 20\n",
        "X_train, y_train = create_dataset(train_data, time_step)\n",
        "X_test, ytest = create_dataset(test_data, time_step)"
      ],
      "metadata": {
        "id": "22QMc9oaHYxj"
      },
      "execution_count": 35,
      "outputs": []
    },
    {
      "cell_type": "code",
      "source": [
        "print(X_train)"
      ],
      "metadata": {
        "colab": {
          "base_uri": "https://localhost:8080/"
        },
        "id": "DGKWnYAmIeyW",
        "outputId": "7c1b19cd-021d-49ce-be4b-98a0039dc5ea"
      },
      "execution_count": 36,
      "outputs": [
        {
          "output_type": "stream",
          "name": "stdout",
          "text": [
            "[[1.00000000e+00 1.66374781e-01 0.00000000e+00 7.00525394e-04\n",
            "  3.42556918e-01 1.40105079e-03 2.10157618e-03 4.20315236e-03\n",
            "  4.20315236e-03 3.74080560e-01 4.55341506e-03 5.25394046e-03\n",
            "  5.95446585e-03 5.53415061e-02 9.10683012e-03 1.62521891e-01\n",
            "  9.10683012e-03 9.80735552e-03 1.08581436e-02 1.19089317e-02]\n",
            " [1.66374781e-01 0.00000000e+00 7.00525394e-04 3.42556918e-01\n",
            "  1.40105079e-03 2.10157618e-03 4.20315236e-03 4.20315236e-03\n",
            "  3.74080560e-01 4.55341506e-03 5.25394046e-03 5.95446585e-03\n",
            "  5.53415061e-02 9.10683012e-03 1.62521891e-01 9.10683012e-03\n",
            "  9.80735552e-03 1.08581436e-02 1.19089317e-02 1.47110333e-02]\n",
            " [0.00000000e+00 7.00525394e-04 3.42556918e-01 1.40105079e-03\n",
            "  2.10157618e-03 4.20315236e-03 4.20315236e-03 3.74080560e-01\n",
            "  4.55341506e-03 5.25394046e-03 5.95446585e-03 5.53415061e-02\n",
            "  9.10683012e-03 1.62521891e-01 9.10683012e-03 9.80735552e-03\n",
            "  1.08581436e-02 1.19089317e-02 1.47110333e-02 2.46935201e-01]\n",
            " [7.00525394e-04 3.42556918e-01 1.40105079e-03 2.10157618e-03\n",
            "  4.20315236e-03 4.20315236e-03 3.74080560e-01 4.55341506e-03\n",
            "  5.25394046e-03 5.95446585e-03 5.53415061e-02 9.10683012e-03\n",
            "  1.62521891e-01 9.10683012e-03 9.80735552e-03 1.08581436e-02\n",
            "  1.19089317e-02 1.47110333e-02 2.46935201e-01 1.68126095e-02]\n",
            " [3.42556918e-01 1.40105079e-03 2.10157618e-03 4.20315236e-03\n",
            "  4.20315236e-03 3.74080560e-01 4.55341506e-03 5.25394046e-03\n",
            "  5.95446585e-03 5.53415061e-02 9.10683012e-03 1.62521891e-01\n",
            "  9.10683012e-03 9.80735552e-03 1.08581436e-02 1.19089317e-02\n",
            "  1.47110333e-02 2.46935201e-01 1.68126095e-02 7.77583187e-02]\n",
            " [1.40105079e-03 2.10157618e-03 4.20315236e-03 4.20315236e-03\n",
            "  3.74080560e-01 4.55341506e-03 5.25394046e-03 5.95446585e-03\n",
            "  5.53415061e-02 9.10683012e-03 1.62521891e-01 9.10683012e-03\n",
            "  9.80735552e-03 1.08581436e-02 1.19089317e-02 1.47110333e-02\n",
            "  2.46935201e-01 1.68126095e-02 7.77583187e-02 1.37653240e-01]\n",
            " [2.10157618e-03 4.20315236e-03 4.20315236e-03 3.74080560e-01\n",
            "  4.55341506e-03 5.25394046e-03 5.95446585e-03 5.53415061e-02\n",
            "  9.10683012e-03 1.62521891e-01 9.10683012e-03 9.80735552e-03\n",
            "  1.08581436e-02 1.19089317e-02 1.47110333e-02 2.46935201e-01\n",
            "  1.68126095e-02 7.77583187e-02 1.37653240e-01 2.57443082e-01]\n",
            " [4.20315236e-03 4.20315236e-03 3.74080560e-01 4.55341506e-03\n",
            "  5.25394046e-03 5.95446585e-03 5.53415061e-02 9.10683012e-03\n",
            "  1.62521891e-01 9.10683012e-03 9.80735552e-03 1.08581436e-02\n",
            "  1.19089317e-02 1.47110333e-02 2.46935201e-01 1.68126095e-02\n",
            "  7.77583187e-02 1.37653240e-01 2.57443082e-01 2.57443082e-01]\n",
            " [4.20315236e-03 3.74080560e-01 4.55341506e-03 5.25394046e-03\n",
            "  5.95446585e-03 5.53415061e-02 9.10683012e-03 1.62521891e-01\n",
            "  9.10683012e-03 9.80735552e-03 1.08581436e-02 1.19089317e-02\n",
            "  1.47110333e-02 2.46935201e-01 1.68126095e-02 7.77583187e-02\n",
            "  1.37653240e-01 2.57443082e-01 2.57443082e-01 2.06654991e-02]\n",
            " [3.74080560e-01 4.55341506e-03 5.25394046e-03 5.95446585e-03\n",
            "  5.53415061e-02 9.10683012e-03 1.62521891e-01 9.10683012e-03\n",
            "  9.80735552e-03 1.08581436e-02 1.19089317e-02 1.47110333e-02\n",
            "  2.46935201e-01 1.68126095e-02 7.77583187e-02 1.37653240e-01\n",
            "  2.57443082e-01 2.57443082e-01 2.06654991e-02 2.71453590e-01]\n",
            " [4.55341506e-03 5.25394046e-03 5.95446585e-03 5.53415061e-02\n",
            "  9.10683012e-03 1.62521891e-01 9.10683012e-03 9.80735552e-03\n",
            "  1.08581436e-02 1.19089317e-02 1.47110333e-02 2.46935201e-01\n",
            "  1.68126095e-02 7.77583187e-02 1.37653240e-01 2.57443082e-01\n",
            "  2.57443082e-01 2.06654991e-02 2.71453590e-01 2.10157618e-02]\n",
            " [5.25394046e-03 5.95446585e-03 5.53415061e-02 9.10683012e-03\n",
            "  1.62521891e-01 9.10683012e-03 9.80735552e-03 1.08581436e-02\n",
            "  1.19089317e-02 1.47110333e-02 2.46935201e-01 1.68126095e-02\n",
            "  7.77583187e-02 1.37653240e-01 2.57443082e-01 2.57443082e-01\n",
            "  2.06654991e-02 2.71453590e-01 2.10157618e-02 2.20665499e-02]]\n"
          ]
        }
      ]
    },
    {
      "cell_type": "code",
      "source": [
        "print(X_train.shape),print(y_train.shape)"
      ],
      "metadata": {
        "colab": {
          "base_uri": "https://localhost:8080/"
        },
        "id": "6M1HGnIEJZhL",
        "outputId": "8016dfd9-8fb2-45ca-e636-44ca8a50fd93"
      },
      "execution_count": 40,
      "outputs": [
        {
          "output_type": "stream",
          "name": "stdout",
          "text": [
            "(12, 20)\n",
            "(12,)\n"
          ]
        },
        {
          "output_type": "execute_result",
          "data": {
            "text/plain": [
              "(None, None)"
            ]
          },
          "metadata": {},
          "execution_count": 40
        }
      ]
    },
    {
      "cell_type": "code",
      "source": [
        "print(X_test.shape), print(ytest.shape)"
      ],
      "metadata": {
        "colab": {
          "base_uri": "https://localhost:8080/"
        },
        "id": "cktQ34IUIzou",
        "outputId": "bef8d4af-5da5-46f0-faa6-92a2de0fcb31"
      },
      "execution_count": 38,
      "outputs": [
        {
          "output_type": "stream",
          "name": "stdout",
          "text": [
            "(13, 20)\n",
            "(13,)\n"
          ]
        },
        {
          "output_type": "execute_result",
          "data": {
            "text/plain": [
              "(None, None)"
            ]
          },
          "metadata": {},
          "execution_count": 38
        }
      ]
    },
    {
      "cell_type": "code",
      "source": [
        "# reshape input to be [samples, time steps, features] which is required for LSTM\n",
        "X_train =X_train.reshape(X_train.shape[0],X_train.shape[1] , 1)\n",
        "X_test = X_test.reshape(X_test.shape[0],X_test.shape[1] , 1)"
      ],
      "metadata": {
        "id": "mGAHH2B8JpC0"
      },
      "execution_count": 41,
      "outputs": []
    },
    {
      "cell_type": "code",
      "source": [
        "### Create the Stacked LSTM model\n",
        "from tensorflow.keras.models import Sequential\n",
        "from tensorflow.keras.layers import Dense\n",
        "from tensorflow.keras.layers import LSTM"
      ],
      "metadata": {
        "id": "3rOc9VmqJz0m"
      },
      "execution_count": 42,
      "outputs": []
    },
    {
      "cell_type": "code",
      "source": [
        "model=Sequential()\n",
        "model.add(LSTM(50,return_sequences=True,input_shape=(20,1)))\n",
        "model.add(LSTM(50,return_sequences=True))\n",
        "model.add(LSTM(50))\n",
        "model.add(Dense(1))\n",
        "model.compile(loss='mean_squared_error',optimizer='adam')"
      ],
      "metadata": {
        "id": "hTdYjUVjJ4fA"
      },
      "execution_count": 46,
      "outputs": []
    },
    {
      "cell_type": "code",
      "source": [
        "model.summary()"
      ],
      "metadata": {
        "colab": {
          "base_uri": "https://localhost:8080/"
        },
        "id": "oQr1qhBNKjg0",
        "outputId": "3ef00124-2474-4384-b4c6-38a097b3206f"
      },
      "execution_count": 47,
      "outputs": [
        {
          "output_type": "stream",
          "name": "stdout",
          "text": [
            "Model: \"sequential_1\"\n",
            "_________________________________________________________________\n",
            " Layer (type)                Output Shape              Param #   \n",
            "=================================================================\n",
            " lstm_3 (LSTM)               (None, 20, 50)            10400     \n",
            "                                                                 \n",
            " lstm_4 (LSTM)               (None, 20, 50)            20200     \n",
            "                                                                 \n",
            " lstm_5 (LSTM)               (None, 50)                20200     \n",
            "                                                                 \n",
            " dense_1 (Dense)             (None, 1)                 51        \n",
            "                                                                 \n",
            "=================================================================\n",
            "Total params: 50,851\n",
            "Trainable params: 50,851\n",
            "Non-trainable params: 0\n",
            "_________________________________________________________________\n"
          ]
        }
      ]
    },
    {
      "cell_type": "code",
      "source": [
        "model.fit(X_train,y_train,validation_data=(X_test,ytest),epochs=20,batch_size=64,verbose=1)"
      ],
      "metadata": {
        "colab": {
          "base_uri": "https://localhost:8080/"
        },
        "id": "L6x2wTI9Kwxr",
        "outputId": "bcb88fbb-f09d-4a4f-ab95-e035d3a7bc18"
      },
      "execution_count": 48,
      "outputs": [
        {
          "output_type": "stream",
          "name": "stdout",
          "text": [
            "Epoch 1/20\n",
            "1/1 [==============================] - 8s 8s/step - loss: 0.0245 - val_loss: 0.0594\n",
            "Epoch 2/20\n",
            "1/1 [==============================] - 0s 69ms/step - loss: 0.0202 - val_loss: 0.0500\n",
            "Epoch 3/20\n",
            "1/1 [==============================] - 0s 75ms/step - loss: 0.0167 - val_loss: 0.0421\n",
            "Epoch 4/20\n",
            "1/1 [==============================] - 0s 72ms/step - loss: 0.0139 - val_loss: 0.0360\n",
            "Epoch 5/20\n",
            "1/1 [==============================] - 0s 68ms/step - loss: 0.0122 - val_loss: 0.0332\n",
            "Epoch 6/20\n",
            "1/1 [==============================] - 0s 68ms/step - loss: 0.0124 - val_loss: 0.0335\n",
            "Epoch 7/20\n",
            "1/1 [==============================] - 0s 68ms/step - loss: 0.0138 - val_loss: 0.0336\n",
            "Epoch 8/20\n",
            "1/1 [==============================] - 0s 82ms/step - loss: 0.0141 - val_loss: 0.0332\n",
            "Epoch 9/20\n",
            "1/1 [==============================] - 0s 81ms/step - loss: 0.0135 - val_loss: 0.0331\n",
            "Epoch 10/20\n",
            "1/1 [==============================] - 0s 74ms/step - loss: 0.0127 - val_loss: 0.0337\n",
            "Epoch 11/20\n",
            "1/1 [==============================] - 0s 71ms/step - loss: 0.0122 - val_loss: 0.0348\n",
            "Epoch 12/20\n",
            "1/1 [==============================] - 0s 78ms/step - loss: 0.0120 - val_loss: 0.0362\n",
            "Epoch 13/20\n",
            "1/1 [==============================] - 0s 67ms/step - loss: 0.0120 - val_loss: 0.0374\n",
            "Epoch 14/20\n",
            "1/1 [==============================] - 0s 84ms/step - loss: 0.0121 - val_loss: 0.0384\n",
            "Epoch 15/20\n",
            "1/1 [==============================] - 0s 77ms/step - loss: 0.0123 - val_loss: 0.0390\n",
            "Epoch 16/20\n",
            "1/1 [==============================] - 0s 78ms/step - loss: 0.0123 - val_loss: 0.0393\n",
            "Epoch 17/20\n",
            "1/1 [==============================] - 0s 71ms/step - loss: 0.0123 - val_loss: 0.0392\n",
            "Epoch 18/20\n",
            "1/1 [==============================] - 0s 71ms/step - loss: 0.0122 - val_loss: 0.0390\n",
            "Epoch 19/20\n",
            "1/1 [==============================] - 0s 69ms/step - loss: 0.0121 - val_loss: 0.0385\n",
            "Epoch 20/20\n",
            "1/1 [==============================] - 0s 72ms/step - loss: 0.0120 - val_loss: 0.0380\n"
          ]
        },
        {
          "output_type": "execute_result",
          "data": {
            "text/plain": [
              "<keras.callbacks.History at 0x7a3c5ee23ee0>"
            ]
          },
          "metadata": {},
          "execution_count": 48
        }
      ]
    },
    {
      "cell_type": "code",
      "source": [
        "import tensorflow as tf"
      ],
      "metadata": {
        "id": "PEqnqtLHLYgr"
      },
      "execution_count": 49,
      "outputs": []
    },
    {
      "cell_type": "code",
      "source": [
        "tf.__version__"
      ],
      "metadata": {
        "colab": {
          "base_uri": "https://localhost:8080/",
          "height": 35
        },
        "id": "hF0KDiNnLaAS",
        "outputId": "9472bd2f-26cc-4ab4-9253-6ae5ac3bdea8"
      },
      "execution_count": 50,
      "outputs": [
        {
          "output_type": "execute_result",
          "data": {
            "text/plain": [
              "'2.12.0'"
            ],
            "application/vnd.google.colaboratory.intrinsic+json": {
              "type": "string"
            }
          },
          "metadata": {},
          "execution_count": 50
        }
      ]
    },
    {
      "cell_type": "code",
      "source": [
        "### Lets Do the prediction and check performance metrics\n",
        "train_predict=model.predict(X_train)\n",
        "test_predict=model.predict(X_test)"
      ],
      "metadata": {
        "colab": {
          "base_uri": "https://localhost:8080/"
        },
        "id": "nhpDf5MYLfuW",
        "outputId": "c71d0e61-f92f-457d-a117-4d7c0ccd5f42"
      },
      "execution_count": 51,
      "outputs": [
        {
          "output_type": "stream",
          "name": "stdout",
          "text": [
            "1/1 [==============================] - 2s 2s/step\n",
            "1/1 [==============================] - 0s 29ms/step\n"
          ]
        }
      ]
    },
    {
      "cell_type": "code",
      "source": [
        "##Transformback to original form\n",
        "train_predict=scaler.inverse_transform(train_predict)\n",
        "test_predict=scaler.inverse_transform(test_predict)"
      ],
      "metadata": {
        "id": "I9dhfJUXLlt_"
      },
      "execution_count": 52,
      "outputs": []
    },
    {
      "cell_type": "code",
      "source": [
        "### Calculate RMSE performance metrics\n",
        "import math\n",
        "from sklearn.metrics import mean_squared_error\n",
        "math.sqrt(mean_squared_error(y_train,train_predict))"
      ],
      "metadata": {
        "colab": {
          "base_uri": "https://localhost:8080/"
        },
        "id": "Ibsz-HE5Lm7P",
        "outputId": "cd4da5e1-8a2e-4a47-af86-b52750bc23e1"
      },
      "execution_count": 53,
      "outputs": [
        {
          "output_type": "execute_result",
          "data": {
            "text/plain": [
              "4164.563202925998"
            ]
          },
          "metadata": {},
          "execution_count": 53
        }
      ]
    },
    {
      "cell_type": "code",
      "source": [
        "### Test Data RMSE\n",
        "math.sqrt(mean_squared_error(ytest,test_predict))"
      ],
      "metadata": {
        "colab": {
          "base_uri": "https://localhost:8080/"
        },
        "id": "8OSjC9fWLqEd",
        "outputId": "2e0ee907-e6a4-4fdb-c060-254494cdb07e"
      },
      "execution_count": 54,
      "outputs": [
        {
          "output_type": "execute_result",
          "data": {
            "text/plain": [
              "4648.716709731515"
            ]
          },
          "metadata": {},
          "execution_count": 54
        }
      ]
    },
    {
      "cell_type": "code",
      "source": [
        "### Plotting\n",
        "# shift train predictions for plotting\n",
        "look_back=20\n",
        "trainPredictPlot = numpy.empty_like(df1)\n",
        "trainPredictPlot[:, :] = np.nan\n",
        "trainPredictPlot[look_back:len(train_predict)+look_back, :] = train_predict\n",
        "# shift test predictions for plotting\n",
        "testPredictPlot = numpy.empty_like(df1)\n",
        "testPredictPlot[:, :] = numpy.nan\n",
        "testPredictPlot[len(train_predict)+(look_back*2)+1:len(df1)-1, :] = test_predict\n",
        "# plot baseline and predictions\n",
        "plt.plot(scaler.inverse_transform(df1))\n",
        "plt.plot(trainPredictPlot)\n",
        "plt.plot(testPredictPlot)\n",
        "plt.show()"
      ],
      "metadata": {
        "colab": {
          "base_uri": "https://localhost:8080/",
          "height": 430
        },
        "id": "QsCH0VVFLtlA",
        "outputId": "278419a1-9e0d-47dd-cf43-850503e54e0e"
      },
      "execution_count": 55,
      "outputs": [
        {
          "output_type": "display_data",
          "data": {
            "text/plain": [
              "<Figure size 640x480 with 1 Axes>"
            ],
            "image/png": "[encoded data removed]"
          },
          "metadata": {}
        }
      ]
    },
    {
      "cell_type": "code",
      "source": [
        "len(test_data)"
      ],
      "metadata": {
        "colab": {
          "base_uri": "https://localhost:8080/"
        },
        "id": "bX1X_cHmLwRP",
        "outputId": "1a389044-6be9-4452-a7ae-9905aba6230c"
      },
      "execution_count": 56,
      "outputs": [
        {
          "output_type": "execute_result",
          "data": {
            "text/plain": [
              "34"
            ]
          },
          "metadata": {},
          "execution_count": 56
        }
      ]
    },
    {
      "cell_type": "code",
      "source": [
        "x_input=test_data[24:].reshape(1,-1)\n",
        "x_input.shape"
      ],
      "metadata": {
        "colab": {
          "base_uri": "https://localhost:8080/"
        },
        "id": "KnudxTlCLz_q",
        "outputId": "0e2ebce1-7ed6-44dc-f1e7-2fbaafc836b2"
      },
      "execution_count": 64,
      "outputs": [
        {
          "output_type": "execute_result",
          "data": {
            "text/plain": [
              "(1, 10)"
            ]
          },
          "metadata": {},
          "execution_count": 64
        }
      ]
    },
    {
      "cell_type": "code",
      "source": [
        "temp_input=list(x_input)\n",
        "temp_input=temp_input[0].tolist()"
      ],
      "metadata": {
        "id": "Ot4bWnL5L2HM"
      },
      "execution_count": 65,
      "outputs": []
    },
    {
      "cell_type": "code",
      "source": [
        "temp_input"
      ],
      "metadata": {
        "colab": {
          "base_uri": "https://localhost:8080/"
        },
        "id": "OiwgNxYdL4oM",
        "outputId": "3e1073d9-748c-405b-c060-a6ae823dc8dc"
      },
      "execution_count": 66,
      "outputs": [
        {
          "output_type": "execute_result",
          "data": {
            "text/plain": [
              "[0.3362521891418564,\n",
              " 0.05253940455341506,\n",
              " 0.05394045534150613,\n",
              " 0.055691768826619956,\n",
              " 0.0574430823117338,\n",
              " 0.059194395796847626,\n",
              " 0.47285464098073554,\n",
              " 0.47285464098073554,\n",
              " 0.06304728546409807,\n",
              " 0.06304728546409807]"
            ]
          },
          "metadata": {},
          "execution_count": 66
        }
      ]
    },
    {
      "cell_type": "code",
      "source": [
        "# demonstrate prediction for next 10 days\n",
        "from numpy import array\n",
        "\n",
        "lst_output=[]\n",
        "n_steps=10\n",
        "i=0\n",
        "while(i<10):\n",
        "\n",
        "    if(len(temp_input)>20):\n",
        "        #print(temp_input)\n",
        "        x_input=np.array(temp_input[1:])\n",
        "        print(\"{} day input {}\".format(i,x_input))\n",
        "        x_input=x_input.reshape(1,-1)\n",
        "        x_input = x_input.reshape((1, n_steps, 1))\n",
        "        #print(x_input)\n",
        "        yhat = model.predict(x_input, verbose=0)\n",
        "        print(\"{} day output {}\".format(i,yhat))\n",
        "        temp_input.extend(yhat[0].tolist())\n",
        "        temp_input=temp_input[1:]\n",
        "        #print(temp_input)\n",
        "        lst_output.extend(yhat.tolist())\n",
        "        i=i+1\n",
        "    else:\n",
        "        x_input = x_input.reshape((1, n_steps,1))\n",
        "        yhat = model.predict(x_input, verbose=0)\n",
        "        print(yhat[0])\n",
        "        temp_input.extend(yhat[0].tolist())\n",
        "        print(len(temp_input))\n",
        "        lst_output.extend(yhat.tolist())\n",
        "        i=i+1\n",
        "\n",
        "\n",
        "print(lst_output)"
      ],
      "metadata": {
        "colab": {
          "base_uri": "https://localhost:8080/"
        },
        "id": "b0SSxw0dL9yZ",
        "outputId": "44f147f5-c8a3-44f4-d850-df29472e897c"
      },
      "execution_count": 68,
      "outputs": [
        {
          "output_type": "stream",
          "name": "stdout",
          "text": [
            "[0.09989275]\n",
            "11\n",
            "[0.09989275]\n",
            "12\n",
            "[0.09989275]\n",
            "13\n",
            "[0.09989275]\n",
            "14\n",
            "[0.09989275]\n",
            "15\n",
            "[0.09989275]\n",
            "16\n",
            "[0.09989275]\n",
            "17\n",
            "[0.09989275]\n",
            "18\n",
            "[0.09989275]\n",
            "19\n",
            "[0.09989275]\n",
            "20\n",
            "[[0.0998927503824234], [0.0998927503824234], [0.0998927503824234], [0.0998927503824234], [0.0998927503824234], [0.0998927503824234], [0.0998927503824234], [0.0998927503824234], [0.0998927503824234], [0.0998927503824234]]\n"
          ]
        }
      ]
    },
    {
      "cell_type": "code",
      "source": [
        "day_new=np.arange(1,11)\n",
        "day_pred=np.arange(11,21)"
      ],
      "metadata": {
        "id": "eUrRNU-TMAUg"
      },
      "execution_count": 69,
      "outputs": []
    },
    {
      "cell_type": "code",
      "source": [
        "import matplotlib.pyplot as plt"
      ],
      "metadata": {
        "id": "2RSo5layMGne"
      },
      "execution_count": 70,
      "outputs": []
    },
    {
      "cell_type": "code",
      "source": [
        "len(df1)"
      ],
      "metadata": {
        "colab": {
          "base_uri": "https://localhost:8080/"
        },
        "id": "h0AYsmxwMJP9",
        "outputId": "83edc6bc-6941-43b7-90bb-2470239347f4"
      },
      "execution_count": 71,
      "outputs": [
        {
          "output_type": "execute_result",
          "data": {
            "text/plain": [
              "67"
            ]
          },
          "metadata": {},
          "execution_count": 71
        }
      ]
    },
    {
      "cell_type": "code",
      "source": [
        "plt.plot(day_new,scaler.inverse_transform(df1[57:]))\n",
        "plt.plot(day_pred,scaler.inverse_transform(lst_output))"
      ],
      "metadata": {
        "colab": {
          "base_uri": "https://localhost:8080/",
          "height": 447
        },
        "id": "MVT_Uaq3MMDm",
        "outputId": "38b457be-417a-4d85-c530-7c6e3fa49499"
      },
      "execution_count": 72,
      "outputs": [
        {
          "output_type": "execute_result",
          "data": {
            "text/plain": [
              "[<matplotlib.lines.Line2D at 0x7a3c5e95eb90>]"
            ]
          },
          "metadata": {},
          "execution_count": 72
        },
        {
          "output_type": "display_data",
          "data": {
            "text/plain": [
              "<Figure size 640x480 with 1 Axes>"
            ],
            "image/png": "[encoded data removed]"
          },
          "metadata": {}
        }
      ]
    },
    {
      "cell_type": "code",
      "source": [
        "df3=df1.tolist()\n",
        "df3.extend(lst_output)\n",
        "plt.plot(df3[60:])"
      ],
      "metadata": {
        "colab": {
          "base_uri": "https://localhost:8080/",
          "height": 447
        },
        "id": "oyN9_uzKMO0t",
        "outputId": "09ff1f83-32e9-480d-ec3f-bbe870235593"
      },
      "execution_count": 73,
      "outputs": [
        {
          "output_type": "execute_result",
          "data": {
            "text/plain": [
              "[<matplotlib.lines.Line2D at 0x7a3c5e97f220>]"
            ]
          },
          "metadata": {},
          "execution_count": 73
        },
        {
          "output_type": "display_data",
          "data": {
            "text/plain": [
              "<Figure size 640x480 with 1 Axes>"
            ],
            "image/png": "[encoded data removed]"
          },
          "metadata": {}
        }
      ]
    },
    {
      "cell_type": "code",
      "source": [
        "df3=scaler.inverse_transform(df3).tolist()"
      ],
      "metadata": {
        "id": "GZ8dEyoqMTsm"
      },
      "execution_count": 74,
      "outputs": []
    },
    {
      "cell_type": "code",
      "source": [
        "plt.plot(df3)"
      ],
      "metadata": {
        "colab": {
          "base_uri": "https://localhost:8080/",
          "height": 447
        },
        "id": "yJGRE6aQMUsd",
        "outputId": "6082be1b-967c-40be-9542-f8bc1c3de634"
      },
      "execution_count": 75,
      "outputs": [
        {
          "output_type": "execute_result",
          "data": {
            "text/plain": [
              "[<matplotlib.lines.Line2D at 0x7a3c5e87a290>]"
            ]
          },
          "metadata": {},
          "execution_count": 75
        },
        {
          "output_type": "display_data",
          "data": {
            "text/plain": [
              "<Figure size 640x480 with 1 Axes>"
            ],
            "image/png": "[encoded data removed]"
          },
          "metadata": {}
        }
      ]
    }
  ]
}